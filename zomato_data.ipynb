{
 "cells": [
  {
   "cell_type": "code",
   "execution_count": 10,
   "metadata": {},
   "outputs": [],
   "source": [
    "## WORKS ON PYTHON3.6 AND ABOVE"
   ]
  },
  {
   "cell_type": "code",
   "execution_count": 1,
   "metadata": {},
   "outputs": [],
   "source": [
    "import requests\n",
    "from bs4 import BeautifulSoup as bs\n",
    "import bs4\n",
    "import re\n",
    "import json\n",
    "import math\n",
    "import numpy as np\n",
    "import h5py\n",
    "import deepdish as dd"
   ]
  },
  {
   "cell_type": "code",
   "execution_count": 2,
   "metadata": {},
   "outputs": [],
   "source": [
    "CITY = \"jaipur\"\n",
    "CITY_ID = \"10\" # JAIPUR 10 | NCR 1 | KOLKATA 2 | MUMBAI 3 | BANGALORE 4 | PUNE 5 | HYDERABAD 6 | CHENNAI 7\n",
    "API_USER_KEY = \"GET YOUR OWN API USER KEY\"\n",
    "# API KEY FROM ZOMATO WITH 1000 CALLS/DAY"
   ]
  },
  {
   "cell_type": "code",
   "execution_count": 3,
   "metadata": {},
   "outputs": [],
   "source": [
    "url = f\"https://www.zomato.com/{CITY}/restaurants?page=1\"\n",
    "url_i = f\"https://www.zomato.com/{CITY}/restaurants?page=\""
   ]
  },
  {
   "cell_type": "code",
   "execution_count": 4,
   "metadata": {},
   "outputs": [],
   "source": [
    "user_agent = \"Mozilla/5.0 (X11; Linux x86_64; rv:60.0) Gecko/20100101 Firefox/60.0\""
   ]
  },
  {
   "cell_type": "code",
   "execution_count": 5,
   "metadata": {},
   "outputs": [],
   "source": [
    "headers = {'user-agent': user_agent,'user-key':API_USER_KEY}"
   ]
  },
  {
   "cell_type": "code",
   "execution_count": 6,
   "metadata": {},
   "outputs": [],
   "source": [
    "REQ_SEARCH_URL = lambda x=0: f'https://developers.zomato.com/api/v2.1/search?entity_id={CITY_ID}&entity_type=city&start={x}'\n",
    "REQ_RESTAURANT_URL = lambda x=0: f'https://developers.zomato.com/api/v2.1/restaurant?res_id={x}'"
   ]
  },
  {
   "cell_type": "code",
   "execution_count": 7,
   "metadata": {},
   "outputs": [],
   "source": [
    "TOTAL_NUMBER_OF_RESTAURANTS = int(json.loads(requests.get(REQ_SEARCH_URL(),headers=headers).text)['results_found'])"
   ]
  },
  {
   "cell_type": "code",
   "execution_count": 8,
   "metadata": {},
   "outputs": [],
   "source": [
    "## GET URLS OF ALL RESTAURANTS THROUGH SCRAPING  (DOES THIS METHOD GET ALL THE RESTAURANTS???)"
   ]
  },
  {
   "cell_type": "code",
   "execution_count": 27,
   "metadata": {
    "scrolled": true
   },
   "outputs": [
    {
     "name": "stdout",
     "output_type": "stream",
     "text": [
      "Block: 296\r"
     ]
    }
   ],
   "source": [
    "URLs = []\n",
    "TOTAL_BLOCKS = math.ceil(TOTAL_NUMBER_OF_RESTAURANTS/15) # IS THE DIVISION ALRIGHT?\n",
    "for i in range(1,TOTAL_BLOCKS):\n",
    "#for i in range(1,2):\n",
    "    print(f\"Block: {i}\",end=\"\\r\")\n",
    "    url_ = url_i + str(i)\n",
    "    r = requests.get(url_,headers=headers)\n",
    "    doc = bs(r.text,'html.parser')\n",
    "    search_results = doc.find_all(attrs={\"id\":\"orig-search-list\"})\n",
    "    divs = []\n",
    "    for div in search_results:\n",
    "        divs.append(div)\n",
    "    for div in divs[0]:\n",
    "        if isinstance(div,bs4.element.Tag):\n",
    "            url = div.find_all(\"a\",{\"class\":\"result-title hover_feedback zred bold ln24 fontsize0\"})[0]['href']\n",
    "            ## IF FINDING <a> THROUGH THIS CLASS NAME DOESN'T WORK, FIND THE CORRECT CLASS NAME\n",
    "            URLs.append(url)"
   ]
  },
  {
   "cell_type": "code",
   "execution_count": 318,
   "metadata": {},
   "outputs": [],
   "source": [
    "## GET ALL RESTAURANT IDs FROM THE URL"
   ]
  },
  {
   "cell_type": "code",
   "execution_count": 10,
   "metadata": {},
   "outputs": [
    {
     "name": "stdout",
     "output_type": "stream",
     "text": [
      "URLs INDEX: 4404\r"
     ]
    }
   ],
   "source": [
    "RES_IDs = []\n",
    "for i in range(len(URLs)):\n",
    "    print(f\"URLs INDEX: {i}\",end='\\r')\n",
    "    r = requests.get(URLs[i],headers=headers)\n",
    "    d = bs(r.text,'html.parser')\n",
    "    e = d.find_all(\"script\")\n",
    "    f = e[14]\n",
    "    g = re.sub(' ','',f.text)\n",
    "    i = g.split(\"\\n\")[1].split(\"=\")[1].split(\"\\\"\")[1]\n",
    "    RES_IDs.append(i)"
   ]
  },
  {
   "cell_type": "code",
   "execution_count": 17,
   "metadata": {},
   "outputs": [],
   "source": [
    "## GET RESTAURANT'S DETAILS THROUGH API"
   ]
  },
  {
   "cell_type": "code",
   "execution_count": 13,
   "metadata": {},
   "outputs": [],
   "source": [
    "REST = dict()\n",
    "errors_on = []\n",
    "def get_restaurants(res_ids):\n",
    "    print(\"TOTAL:\",len(res_ids))\n",
    "    for res_id_idx in range(len(res_ids)):\n",
    "        print(\"                                                                         \",end='\\r')\n",
    "        print(\"RES_ID_COUNT: \" + str(res_id_idx+1) + \" | \" + \"RES_ID: \" + res_ids[res_id_idx],end='\\r')\n",
    "        r = requests.get(REQ_RESTAURANT_URL(res_ids[res_id_idx]),headers=headers)\n",
    "        j = json.loads(r.text)\n",
    "        try:\n",
    "            res_ = {j['id']: j}\n",
    "            REST.update(res_)\n",
    "        except:\n",
    "            errors_on.append(res_id_idx)\n",
    "    print(\"                                               \",end='\\r')\n",
    "    print(\"RES_ID_COUNT: \" + str(res_id_idx+1) + \" | \" + \"DONE\",end='\\r')"
   ]
  },
  {
   "cell_type": "code",
   "execution_count": 14,
   "metadata": {},
   "outputs": [
    {
     "name": "stdout",
     "output_type": "stream",
     "text": [
      "TOTAL: 500\n",
      "RES_ID_COUNT: 500 | DONE                                                 \r"
     ]
    }
   ],
   "source": [
    "get_restaurants(RES_IDs[:500])"
   ]
  },
  {
   "cell_type": "code",
   "execution_count": 23,
   "metadata": {},
   "outputs": [],
   "source": [
    "## SAVE ALL THE STUFF\n",
    "np.save(f\"URLS_{CITY}\",URLs)\n",
    "np.save(f\"IDS_{CITY}\",RES_IDs)\n",
    "#np.save(\"RESTAURANTS\",REST)\n",
    "dd.io.save(f\"RESTAURANTS_{CITY}.h5\",REST)"
   ]
  },
  {
   "cell_type": "code",
   "execution_count": 19,
   "metadata": {},
   "outputs": [],
   "source": [
    "## LOAD ALL THE STUFF\n",
    "RES_IDs = np.load(f\"IDS_{CITY}.npy\")\n",
    "URLs = np.load(f\"URLS_{CITY}.npy\")\n",
    "#REST = np.load(\"RESTAURANTS.npy\")\n",
    "REST = dd.io.load(f\"RESTAURANTS_{CITY}.h5\")"
   ]
  }
 ],
 "metadata": {
  "kernelspec": {
   "display_name": "Python 3",
   "language": "python",
   "name": "python3"
  },
  "language_info": {
   "codemirror_mode": {
    "name": "ipython",
    "version": 3
   },
   "file_extension": ".py",
   "mimetype": "text/x-python",
   "name": "python",
   "nbconvert_exporter": "python",
   "pygments_lexer": "ipython3",
   "version": "3.7.2"
  }
 },
 "nbformat": 4,
 "nbformat_minor": 2
}
